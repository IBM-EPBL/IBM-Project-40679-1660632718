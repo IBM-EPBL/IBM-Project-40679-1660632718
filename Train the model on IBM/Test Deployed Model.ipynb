{
 "cells": [
  {
   "cell_type": "markdown",
   "id": "a8ccef4d",
   "metadata": {},
   "source": [
    "Import Libraries"
   ]
  },
  {
   "cell_type": "code",
   "execution_count": null,
   "id": "846b41b1",
   "metadata": {},
   "outputs": [],
   "source": [
    "import requests\n",
    "import numpy as np\n",
    "from PIL import Image, ImageOps\n",
    "import matplotlib.pyplot as plt"
   ]
  },
  {
   "cell_type": "markdown",
   "id": "1b164ff0",
   "metadata": {},
   "source": [
    "Input Pre-processing"
   ]
  },
  {
   "cell_type": "code",
   "execution_count": null,
   "id": "1e36034c",
   "metadata": {},
   "outputs": [],
   "source": [
    "img = Image.open(f\"../sample/sample 1.png\").convert(\"L\")\n",
    "img = ImageOps.invert(img)\n",
    "img = img.resize((28, 28))\n",
    "img_arr = np.array(img)\n",
    "img_arr = img_arr / 255.0\n",
    "img_arr = img_arr.reshape(28, 28, 1)\n",
    "\n",
    "img2 = Image.open(f\"../sample/sample 2.png\").convert(\"L\")\n",
    "img2 = ImageOps.invert(img2)\n",
    "img2 = img2.resize((28, 28))\n",
    "img2_arr = np.array(img2)\n",
    "img2_arr = img2_arr / 255.0\n",
    "img2_arr = img2_arr.reshape(28, 28, 1)\n",
    "\n",
    "img3 = Image.open(f\"../sample/sample 3.png\").convert(\"L\")\n",
    "img3 = ImageOps.invert(img3)\n",
    "img3 = img3.resize((28, 28))\n",
    "img3_arr = np.array(img3)\n",
    "img3_arr = img3_arr / 255.0\n",
    "img3_arr = img3_arr.reshape(28, 28, 1)"
   ]
  },
  {
   "cell_type": "markdown",
   "id": "c19122a6",
   "metadata": {},
   "source": [
    "Get results from deployed model"
   ]
  },
  {
   "cell_type": "code",
   "execution_count": null,
   "id": "a94fb5e6",
   "metadata": {},
   "outputs": [],
   "source": [
    "API_KEY = \"\" \n",
    "\n",
    "token_response = requests.post('https://iam.cloud.ibm.com/identity/token', \n",
    "                               data={\"apikey\": API_KEY, \"grant_type\": 'urn:ibm:params:oauth:grant-type:apikey'})\n",
    "\n",
    "mltoken = token_response.json()[\"access_token\"]\n",
    "\n",
    "header = {'Content-Type': 'application/json', 'Authorization': 'Bearer ' + mltoken}\n",
    "\n",
    "payload_scoring = {\"input_data\": [{\"fields\": [], \"values\": [img_arr.tolist(), img2_arr.tolist(), img3_arr.tolist()]}]}\n",
    "\n",
    "response_scoring = requests.post('https://us-south.ml.cloud.ibm.com/ml/v4/deployments/ae43e79c-1fbc-450a-b0b4-9a54c451033b/predictions?version=2022-11-10', \n",
    "                                 json=payload_scoring, headers={'Authorization': 'Bearer ' + mltoken})"
   ]
  },
  {
   "cell_type": "markdown",
   "id": "79bb6b84",
   "metadata": {},
   "source": [
    "Display results"
   ]
  },
  {
   "cell_type": "code",
   "execution_count": null,
   "id": "1388f9d9",
   "metadata": {},
   "outputs": [],
   "source": [
    "plt.imshow(plt.imread(\"../sample/sample 1.png\"))\n",
    "plt.axis('off')\n",
    "plt.show()\n",
    "print(\"Result: \", response_scoring.json()['predictions'][0]['values'][0][1])"
   ]
  },
  {
   "cell_type": "code",
   "execution_count": null,
   "id": "08ceaaa6",
   "metadata": {},
   "outputs": [],
   "source": [
    "plt.imshow(plt.imread(\"../sample/sample 2.png\"))\n",
    "plt.axis('off')\n",
    "plt.show()\n",
    "print(\"Result: \", response_scoring.json()['predictions'][0]['values'][1][1])"
   ]
  },
  {
   "cell_type": "code",
   "execution_count": null,
   "id": "60353116",
   "metadata": {},
   "outputs": [],
   "source": [
    "plt.imshow(plt.imread(\"../sample/sample 3.png\"))\n",
    "plt.axis('off')\n",
    "plt.show()\n",
    "print(\"Result: \", response_scoring.json()['predictions'][0]['values'][2][1])"
   ]
  }
 ],
 "metadata": {
  "kernelspec": {
   "display_name": "Python 3",
   "language": "python",
   "name": "python3"
  },
  "language_info": {
   "codemirror_mode": {
    "name": "ipython",
    "version": 3
   },
   "file_extension": ".py",
   "mimetype": "text/x-python",
   "name": "python",
   "nbconvert_exporter": "python",
   "pygments_lexer": "ipython3",
   "version": "3.8.8"
  }
 },
 "nbformat": 4,
 "nbformat_minor": 5
}
