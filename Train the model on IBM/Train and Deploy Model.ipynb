{
 "cells": [
  {
   "cell_type": "markdown",
   "id": "f9161419",
   "metadata": {},
   "source": [
    "Import libraries"
   ]
  },
  {
   "cell_type": "code",
   "execution_count": 1,
   "id": "9ff8dd21",
   "metadata": {},
   "outputs": [],
   "source": [
    "import pandas as pd\n",
    "import numpy as np\n",
    "\n",
    "import matplotlib.pyplot as plt\n",
    "import seaborn as sns\n",
    "\n",
    "from sklearn.model_selection import train_test_split\n",
    "from sklearn.metrics import confusion_matrix\n",
    "\n",
    "import keras\n",
    "from keras.models import Sequential\n",
    "from keras.layers import Conv2D, Lambda, MaxPooling2D\n",
    "from keras.layers import Dense, Dropout, Flatten\n",
    "from tensorflow.keras.layers import BatchNormalization\n",
    "\n",
    "from keras.preprocessing.image import ImageDataGenerator\n",
    "\n",
    "from keras.utils.np_utils import to_categorical\n",
    "\n",
    "from keras.datasets import mnist"
   ]
  },
  {
   "cell_type": "markdown",
   "id": "7094c758",
   "metadata": {},
   "source": [
    "Load the data"
   ]
  },
  {
   "cell_type": "code",
   "execution_count": 2,
   "id": "1cb3f61c",
   "metadata": {},
   "outputs": [
    {
     "name": "stdout",
     "output_type": "stream",
     "text": [
      "(60000, 28, 28)\n",
      "(10000, 28, 28)\n"
     ]
    }
   ],
   "source": [
    "(X_train, Y_train), (X_test, Y_test) = mnist.load_data()\n",
    "print(X_train.shape)\n",
    "print(X_test.shape)"
   ]
  },
  {
   "cell_type": "markdown",
   "id": "4901fbef",
   "metadata": {},
   "source": [
    "Data pre-processing"
   ]
  },
  {
   "cell_type": "code",
   "execution_count": 3,
   "id": "4174068e",
   "metadata": {},
   "outputs": [],
   "source": [
    "X_train = X_train / 255.0\n",
    "X_test = X_test / 255.0"
   ]
  },
  {
   "cell_type": "code",
   "execution_count": 4,
   "id": "c7537330",
   "metadata": {},
   "outputs": [],
   "source": [
    "X_train = X_train.reshape(-1,28,28,1)\n",
    "X_test = X_test.reshape(-1,28,28,1)"
   ]
  },
  {
   "cell_type": "code",
   "execution_count": 5,
   "id": "e33d0e5b",
   "metadata": {},
   "outputs": [],
   "source": [
    "Y_train = to_categorical(Y_train)\n",
    "Y_test = to_categorical(Y_test)"
   ]
  },
  {
   "cell_type": "code",
   "execution_count": 6,
   "id": "6d037773",
   "metadata": {},
   "outputs": [],
   "source": [
    "mean = np.mean(X_train)\n",
    "std = np.std(X_train)\n",
    "\n",
    "def standardize(x):\n",
    "    return (x-mean)/std"
   ]
  },
  {
   "cell_type": "markdown",
   "id": "d6c99fa1",
   "metadata": {},
   "source": [
    "Create model"
   ]
  },
  {
   "cell_type": "code",
   "execution_count": 7,
   "id": "276a34fa",
   "metadata": {},
   "outputs": [],
   "source": [
    "model=Sequential()\n",
    "\n",
    "model.add(Conv2D(filters=64, kernel_size = (3,3), activation=\"relu\", input_shape=(28,28,1)))\n",
    "model.add(Conv2D(filters=64, kernel_size = (3,3), activation=\"relu\"))\n",
    "model.add(MaxPooling2D(pool_size=(2,2)))\n",
    "model.add(BatchNormalization())\n",
    "\n",
    "model.add(Conv2D(filters=128, kernel_size = (3,3), activation=\"relu\"))\n",
    "model.add(Conv2D(filters=128, kernel_size = (3,3), activation=\"relu\"))\n",
    "model.add(MaxPooling2D(pool_size=(2,2)))\n",
    "model.add(BatchNormalization())    \n",
    "\n",
    "model.add(Conv2D(filters=256, kernel_size = (3,3), activation=\"relu\"))\n",
    "model.add(MaxPooling2D(pool_size=(2,2)))\n",
    "model.add(BatchNormalization())\n",
    "    \n",
    "model.add(Flatten())\n",
    "model.add(Dense(512,activation=\"relu\"))\n",
    "    \n",
    "model.add(Dense(10,activation=\"softmax\"))\n",
    "    \n",
    "model.compile(loss=\"categorical_crossentropy\", optimizer=\"adam\", metrics=[\"accuracy\"])"
   ]
  },
  {
   "cell_type": "code",
   "execution_count": 8,
   "id": "abe01254",
   "metadata": {},
   "outputs": [
    {
     "name": "stdout",
     "output_type": "stream",
     "text": [
      "Model: \"sequential\"\n",
      "_________________________________________________________________\n",
      " Layer (type)                Output Shape              Param #   \n",
      "=================================================================\n",
      " conv2d (Conv2D)             (None, 26, 26, 64)        640       \n",
      "                                                                 \n",
      " conv2d_1 (Conv2D)           (None, 24, 24, 64)        36928     \n",
      "                                                                 \n",
      " max_pooling2d (MaxPooling2D  (None, 12, 12, 64)       0         \n",
      " )                                                               \n",
      "                                                                 \n",
      " batch_normalization (BatchN  (None, 12, 12, 64)       256       \n",
      " ormalization)                                                   \n",
      "                                                                 \n",
      " conv2d_2 (Conv2D)           (None, 10, 10, 128)       73856     \n",
      "                                                                 \n",
      " conv2d_3 (Conv2D)           (None, 8, 8, 128)         147584    \n",
      "                                                                 \n",
      " max_pooling2d_1 (MaxPooling  (None, 4, 4, 128)        0         \n",
      " 2D)                                                             \n",
      "                                                                 \n",
      " batch_normalization_1 (Batc  (None, 4, 4, 128)        512       \n",
      " hNormalization)                                                 \n",
      "                                                                 \n",
      " conv2d_4 (Conv2D)           (None, 2, 2, 256)         295168    \n",
      "                                                                 \n",
      " max_pooling2d_2 (MaxPooling  (None, 1, 1, 256)        0         \n",
      " 2D)                                                             \n",
      "                                                                 \n",
      " batch_normalization_2 (Batc  (None, 1, 1, 256)        1024      \n",
      " hNormalization)                                                 \n",
      "                                                                 \n",
      " flatten (Flatten)           (None, 256)               0         \n",
      "                                                                 \n",
      " dense (Dense)               (None, 512)               131584    \n",
      "                                                                 \n",
      " dense_1 (Dense)             (None, 10)                5130      \n",
      "                                                                 \n",
      "=================================================================\n",
      "Total params: 692,682\n",
      "Trainable params: 691,786\n",
      "Non-trainable params: 896\n",
      "_________________________________________________________________\n"
     ]
    }
   ],
   "source": [
    "model.summary()"
   ]
  },
  {
   "cell_type": "markdown",
   "id": "e23c3bde",
   "metadata": {},
   "source": [
    "Define training parameters"
   ]
  },
  {
   "cell_type": "code",
   "execution_count": 9,
   "id": "016de0dd",
   "metadata": {},
   "outputs": [],
   "source": [
    "datagen = ImageDataGenerator(\n",
    "        featurewise_center=False,\n",
    "        samplewise_center=False,\n",
    "        featurewise_std_normalization=False,\n",
    "        samplewise_std_normalization=False,\n",
    "        zca_whitening=False,\n",
    "        rotation_range=15,\n",
    "        zoom_range = 0.01,\n",
    "        width_shift_range=0.1,\n",
    "        height_shift_range=0.1,\n",
    "        horizontal_flip=False,\n",
    "        vertical_flip=False)\n",
    "\n",
    "\n",
    "train_gen = datagen.flow(X_train, Y_train, batch_size=128)\n",
    "test_gen = datagen.flow(X_test, Y_test, batch_size=128)"
   ]
  },
  {
   "cell_type": "code",
   "execution_count": 10,
   "id": "80cef691",
   "metadata": {},
   "outputs": [],
   "source": [
    "epochs = 10\n",
    "batch_size = 128\n",
    "train_steps = X_train.shape[0] // batch_size\n",
    "valid_steps = X_test.shape[0] // batch_size\n",
    "\n",
    "es = keras.callbacks.EarlyStopping(\n",
    "        monitor=\"val_accuracy\",\n",
    "        patience=10,\n",
    "        verbose=1,\n",
    "        mode=\"max\",\n",
    "        restore_best_weights=True,\n",
    "     )\n",
    "\n",
    "rp = keras.callbacks.ReduceLROnPlateau(\n",
    "        monitor=\"val_accuracy\",\n",
    "        factor=0.2,\n",
    "        patience=3,\n",
    "        verbose=1,\n",
    "        mode=\"max\",\n",
    "        min_lr=0.00001,\n",
    "     )"
   ]
  },
  {
   "cell_type": "markdown",
   "id": "d667b1d6",
   "metadata": {},
   "source": [
    "Train the model"
   ]
  },
  {
   "cell_type": "code",
   "execution_count": 11,
   "id": "6ea295bf",
   "metadata": {},
   "outputs": [
    {
     "name": "stdout",
     "output_type": "stream",
     "text": [
      "Epoch 1/10\n",
      "468/468 [==============================] - 283s 602ms/step - loss: 0.1263 - accuracy: 0.9604 - val_loss: 0.2998 - val_accuracy: 0.8816 - lr: 0.0010\n",
      "Epoch 2/10\n",
      "468/468 [==============================] - 294s 629ms/step - loss: 0.0531 - accuracy: 0.9840 - val_loss: 0.0623 - val_accuracy: 0.9787 - lr: 0.0010\n",
      "Epoch 3/10\n",
      "468/468 [==============================] - 278s 595ms/step - loss: 0.0422 - accuracy: 0.9872 - val_loss: 0.0675 - val_accuracy: 0.9793 - lr: 0.0010\n",
      "Epoch 4/10\n",
      "468/468 [==============================] - 280s 598ms/step - loss: 0.0391 - accuracy: 0.9879 - val_loss: 0.0343 - val_accuracy: 0.9898 - lr: 0.0010\n",
      "Epoch 5/10\n",
      "468/468 [==============================] - 281s 601ms/step - loss: 0.0338 - accuracy: 0.9896 - val_loss: 0.0334 - val_accuracy: 0.9901 - lr: 0.0010\n",
      "Epoch 6/10\n",
      "468/468 [==============================] - 282s 603ms/step - loss: 0.0278 - accuracy: 0.9915 - val_loss: 0.0333 - val_accuracy: 0.9900 - lr: 0.0010\n",
      "Epoch 7/10\n",
      "468/468 [==============================] - 276s 589ms/step - loss: 0.0304 - accuracy: 0.9912 - val_loss: 0.0272 - val_accuracy: 0.9918 - lr: 0.0010\n",
      "Epoch 8/10\n",
      "468/468 [==============================] - 275s 587ms/step - loss: 0.0254 - accuracy: 0.9919 - val_loss: 0.0303 - val_accuracy: 0.9902 - lr: 0.0010\n",
      "Epoch 9/10\n",
      "468/468 [==============================] - 341s 729ms/step - loss: 0.0275 - accuracy: 0.9916 - val_loss: 0.0331 - val_accuracy: 0.9908 - lr: 0.0010\n",
      "Epoch 10/10\n",
      "468/468 [==============================] - ETA: 0s - loss: 0.0246 - accuracy: 0.9929\n",
      "Epoch 10: ReduceLROnPlateau reducing learning rate to 0.00020000000949949026.\n",
      "468/468 [==============================] - 318s 679ms/step - loss: 0.0246 - accuracy: 0.9929 - val_loss: 0.0315 - val_accuracy: 0.9901 - lr: 0.0010\n"
     ]
    }
   ],
   "source": [
    "history = model.fit(train_gen, \n",
    "                    epochs = epochs, \n",
    "                    steps_per_epoch = train_steps,\n",
    "                    validation_data = test_gen,\n",
    "                    validation_steps = valid_steps, \n",
    "                    callbacks=[es, rp])"
   ]
  },
  {
   "cell_type": "markdown",
   "id": "54b921cf",
   "metadata": {},
   "source": [
    "Save the model"
   ]
  },
  {
   "cell_type": "code",
   "execution_count": 12,
   "id": "2f55c70d",
   "metadata": {},
   "outputs": [],
   "source": [
    "model.save(\"model.h5\")"
   ]
  },
  {
   "cell_type": "code",
   "execution_count": 13,
   "id": "69030897",
   "metadata": {},
   "outputs": [
    {
     "name": "stderr",
     "output_type": "stream",
     "text": [
      "a model.h5\n"
     ]
    }
   ],
   "source": [
    "!tar -zcvf model.tgz model.h5"
   ]
  },
  {
   "cell_type": "code",
   "execution_count": 16,
   "id": "ef73301a",
   "metadata": {},
   "outputs": [
    {
     "name": "stdout",
     "output_type": "stream",
     "text": [
      "Collecting package metadata (current_repodata.json): ...working... done\n",
      "Note: you may need to restart the kernel to use updated packages.\n",
      "\n",
      "Solving environment: ...working... done\n",
      "\n",
      "## Package Plan ##\n",
      "\n",
      "  environment location: C:\\Users\\saravanan\\anaconda3\n",
      "\n",
      "  added / updated specs:\n",
      "    - pathlib\n",
      "\n",
      "\n",
      "The following packages will be downloaded:\n",
      "\n",
      "    package                    |            build\n",
      "    ---------------------------|-----------------\n",
      "    pathlib-1.0.1              |     pyhd3eb1b0_1          17 KB  anaconda\n",
      "    ------------------------------------------------------------\n",
      "                                           Total:          17 KB\n",
      "\n",
      "The following NEW packages will be INSTALLED:\n",
      "\n",
      "  pathlib            anaconda/noarch::pathlib-1.0.1-pyhd3eb1b0_1 None\n",
      "\n",
      "\n",
      "\n",
      "Downloading and Extracting Packages\n",
      "\n",
      "pathlib-1.0.1        | 17 KB     |            |   0% \n",
      "pathlib-1.0.1        | 17 KB     | #########5 |  96% \n",
      "pathlib-1.0.1        | 17 KB     | ########## | 100% \n",
      "Preparing transaction: ...working... done\n",
      "Verifying transaction: ...working... done\n",
      "Executing transaction: ...working... done\n",
      "Retrieving notices: ...working... done\n"
     ]
    }
   ],
   "source": [
    "conda install -c anaconda pathlib"
   ]
  },
  {
   "cell_type": "code",
   "execution_count": 17,
   "id": "59fedf69",
   "metadata": {},
   "outputs": [
    {
     "name": "stdout",
     "output_type": "stream",
     "text": [
      "Collecting package metadata (current_repodata.json): ...working... done\n",
      "Note: you may need to restart the kernel to use updated packages.\n",
      "\n",
      "Solving environment: ...working... done\n",
      "\n",
      "## Package Plan ##\n",
      "\n",
      "  environment location: C:\\Users\\saravanan\\anaconda3\n",
      "\n",
      "  added / updated specs:\n",
      "    - ruamel.yaml\n",
      "\n",
      "\n",
      "The following packages will be downloaded:\n",
      "\n",
      "    package                    |            build\n",
      "    ---------------------------|-----------------\n",
      "    conda-22.9.0               |   py38haa244fe_2         982 KB  conda-forge\n",
      "    ruamel.yaml-0.17.21        |   py38h294d835_1         168 KB  conda-forge\n",
      "    ruamel.yaml.clib-0.2.6     |   py38h2bbff1b_1         101 KB\n",
      "    ------------------------------------------------------------\n",
      "                                           Total:         1.2 MB\n",
      "\n",
      "The following NEW packages will be INSTALLED:\n",
      "\n",
      "  ruamel.yaml        conda-forge/win-64::ruamel.yaml-0.17.21-py38h294d835_1 None\n",
      "  ruamel.yaml.clib   pkgs/main/win-64::ruamel.yaml.clib-0.2.6-py38h2bbff1b_1 None\n",
      "\n",
      "The following packages will be UPDATED:\n",
      "\n",
      "  conda                               22.9.0-py38haa244fe_1 --> 22.9.0-py38haa244fe_2 None\n",
      "\n",
      "\n",
      "\n",
      "Downloading and Extracting Packages\n",
      "\n",
      "ruamel.yaml-0.17.21  | 168 KB    |            |   0% \n",
      "ruamel.yaml-0.17.21  | 168 KB    | 9          |   9% \n",
      "ruamel.yaml-0.17.21  | 168 KB    | #######5   |  76% \n",
      "ruamel.yaml-0.17.21  | 168 KB    | ########## | 100% \n",
      "\n",
      "conda-22.9.0         | 982 KB    |            |   0% \n",
      "conda-22.9.0         | 982 KB    | 1          |   2% \n",
      "conda-22.9.0         | 982 KB    | #7         |  18% \n",
      "conda-22.9.0         | 982 KB    | ####5      |  46% \n",
      "conda-22.9.0         | 982 KB    | #######8   |  78% \n",
      "conda-22.9.0         | 982 KB    | ########## | 100% \n",
      "conda-22.9.0         | 982 KB    | ########## | 100% \n",
      "\n",
      "ruamel.yaml.clib-0.2 | 101 KB    |            |   0% \n",
      "ruamel.yaml.clib-0.2 | 101 KB    | #5         |  16% \n",
      "ruamel.yaml.clib-0.2 | 101 KB    | ########## | 100% \n",
      "ruamel.yaml.clib-0.2 | 101 KB    | ########## | 100% \n",
      "Preparing transaction: ...working... done\n",
      "Verifying transaction: ...working... done\n",
      "Executing transaction: ...working... done\n",
      "Retrieving notices: ...working... done\n"
     ]
    }
   ],
   "source": [
    "conda install -c conda-forge ruamel.yaml"
   ]
  },
  {
   "cell_type": "markdown",
   "id": "4a06e4d7",
   "metadata": {},
   "source": [
    "Install package"
   ]
  },
  {
   "cell_type": "code",
   "execution_count": 18,
   "id": "9254d3c7",
   "metadata": {},
   "outputs": [
    {
     "name": "stdout",
     "output_type": "stream",
     "text": [
      "Requirement already satisfied: watson-machine-learning-client in c:\\users\\saravanan\\anaconda3\\lib\\site-packages (1.0.391)\n",
      "Requirement already satisfied: certifi in c:\\users\\saravanan\\anaconda3\\lib\\site-packages (from watson-machine-learning-client) (2020.12.5)\n",
      "Requirement already satisfied: lomond in c:\\users\\saravanan\\anaconda3\\lib\\site-packages (from watson-machine-learning-client) (0.3.3)\n",
      "Requirement already satisfied: boto3 in c:\\users\\saravanan\\anaconda3\\lib\\site-packages (from watson-machine-learning-client) (1.26.8)\n",
      "Requirement already satisfied: tqdm in c:\\users\\saravanan\\anaconda3\\lib\\site-packages (from watson-machine-learning-client) (4.59.0)\n",
      "Requirement already satisfied: tabulate in c:\\users\\saravanan\\anaconda3\\lib\\site-packages (from watson-machine-learning-client) (0.9.0)\n",
      "Requirement already satisfied: ibm-cos-sdk in c:\\users\\saravanan\\anaconda3\\lib\\site-packages (from watson-machine-learning-client) (2.12.0)\n",
      "Requirement already satisfied: urllib3 in c:\\users\\saravanan\\anaconda3\\lib\\site-packages (from watson-machine-learning-client) (1.26.12)\n",
      "Requirement already satisfied: requests in c:\\users\\saravanan\\anaconda3\\lib\\site-packages (from watson-machine-learning-client) (2.28.1)\n",
      "Requirement already satisfied: pandas in c:\\users\\saravanan\\anaconda3\\lib\\site-packages (from watson-machine-learning-client) (1.2.4)\n",
      "Requirement already satisfied: s3transfer<0.7.0,>=0.6.0 in c:\\users\\saravanan\\anaconda3\\lib\\site-packages (from boto3->watson-machine-learning-client) (0.6.0)\n",
      "Requirement already satisfied: botocore<1.30.0,>=1.29.8 in c:\\users\\saravanan\\anaconda3\\lib\\site-packages (from boto3->watson-machine-learning-client) (1.29.8)\n",
      "Requirement already satisfied: jmespath<2.0.0,>=0.7.1 in c:\\users\\saravanan\\anaconda3\\lib\\site-packages (from boto3->watson-machine-learning-client) (0.10.0)\n",
      "Requirement already satisfied: python-dateutil<3.0.0,>=2.1 in c:\\users\\saravanan\\anaconda3\\lib\\site-packages (from botocore<1.30.0,>=1.29.8->boto3->watson-machine-learning-client) (2.8.2)\n",
      "Requirement already satisfied: six>=1.5 in c:\\users\\saravanan\\anaconda3\\lib\\site-packages (from python-dateutil<3.0.0,>=2.1->botocore<1.30.0,>=1.29.8->boto3->watson-machine-learning-client) (1.15.0)\n",
      "Requirement already satisfied: ibm-cos-sdk-core==2.12.0 in c:\\users\\saravanan\\anaconda3\\lib\\site-packages (from ibm-cos-sdk->watson-machine-learning-client) (2.12.0)\n",
      "Requirement already satisfied: ibm-cos-sdk-s3transfer==2.12.0 in c:\\users\\saravanan\\anaconda3\\lib\\site-packages (from ibm-cos-sdk->watson-machine-learning-client) (2.12.0)\n",
      "Requirement already satisfied: idna<4,>=2.5 in c:\\users\\saravanan\\anaconda3\\lib\\site-packages (from requests->watson-machine-learning-client) (2.10)\n",
      "Requirement already satisfied: charset-normalizer<3,>=2 in c:\\users\\saravanan\\anaconda3\\lib\\site-packages (from requests->watson-machine-learning-client) (2.1.1)\n",
      "Requirement already satisfied: numpy>=1.16.5 in c:\\users\\saravanan\\anaconda3\\lib\\site-packages (from pandas->watson-machine-learning-client) (1.20.1)\n",
      "Requirement already satisfied: pytz>=2017.3 in c:\\users\\saravanan\\anaconda3\\lib\\site-packages (from pandas->watson-machine-learning-client) (2021.1)\n"
     ]
    }
   ],
   "source": [
    "!pip install watson-machine-learning-client"
   ]
  },
  {
   "cell_type": "markdown",
   "id": "d16df46a",
   "metadata": {},
   "source": [
    "Connect to IBM Watson Machine Learning instance"
   ]
  },
  {
   "cell_type": "code",
   "execution_count": 20,
   "id": "7aeebd0c",
   "metadata": {},
   "outputs": [
    {
     "name": "stdout",
     "output_type": "stream",
     "text": [
      "Collecting ibm-watson-machine-learning\n",
      "  Downloading ibm_watson_machine_learning-1.0.257-py3-none-any.whl (1.8 MB)\n",
      "Collecting ibm-cos-sdk==2.7.*\n",
      "  Downloading ibm-cos-sdk-2.7.0.tar.gz (51 kB)\n",
      "Requirement already satisfied: certifi in c:\\users\\saravanan\\anaconda3\\lib\\site-packages (from ibm-watson-machine-learning) (2020.12.5)\n",
      "Requirement already satisfied: pandas<1.5.0,>=0.24.2 in c:\\users\\saravanan\\anaconda3\\lib\\site-packages (from ibm-watson-machine-learning) (1.2.4)\n",
      "Requirement already satisfied: tabulate in c:\\users\\saravanan\\anaconda3\\lib\\site-packages (from ibm-watson-machine-learning) (0.9.0)\n",
      "Requirement already satisfied: packaging in c:\\users\\saravanan\\anaconda3\\lib\\site-packages (from ibm-watson-machine-learning) (20.9)\n",
      "Requirement already satisfied: lomond in c:\\users\\saravanan\\anaconda3\\lib\\site-packages (from ibm-watson-machine-learning) (0.3.3)\n",
      "Requirement already satisfied: urllib3 in c:\\users\\saravanan\\anaconda3\\lib\\site-packages (from ibm-watson-machine-learning) (1.26.12)\n",
      "Requirement already satisfied: importlib-metadata in c:\\users\\saravanan\\anaconda3\\lib\\site-packages (from ibm-watson-machine-learning) (5.0.0)\n",
      "Requirement already satisfied: requests in c:\\users\\saravanan\\anaconda3\\lib\\site-packages (from ibm-watson-machine-learning) (2.28.1)\n",
      "Collecting ibm-cos-sdk-core==2.7.0\n",
      "  Downloading ibm-cos-sdk-core-2.7.0.tar.gz (824 kB)\n",
      "Collecting ibm-cos-sdk-s3transfer==2.7.0\n",
      "  Downloading ibm-cos-sdk-s3transfer-2.7.0.tar.gz (133 kB)\n",
      "Requirement already satisfied: jmespath<1.0.0,>=0.7.1 in c:\\users\\saravanan\\anaconda3\\lib\\site-packages (from ibm-cos-sdk==2.7.*->ibm-watson-machine-learning) (0.10.0)\n",
      "Collecting docutils<0.16,>=0.10\n",
      "  Downloading docutils-0.15.2-py3-none-any.whl (547 kB)\n",
      "Requirement already satisfied: python-dateutil<3.0.0,>=2.1 in c:\\users\\saravanan\\anaconda3\\lib\\site-packages (from ibm-cos-sdk-core==2.7.0->ibm-cos-sdk==2.7.*->ibm-watson-machine-learning) (2.8.2)\n",
      "Requirement already satisfied: numpy>=1.16.5 in c:\\users\\saravanan\\anaconda3\\lib\\site-packages (from pandas<1.5.0,>=0.24.2->ibm-watson-machine-learning) (1.20.1)\n",
      "Requirement already satisfied: pytz>=2017.3 in c:\\users\\saravanan\\anaconda3\\lib\\site-packages (from pandas<1.5.0,>=0.24.2->ibm-watson-machine-learning) (2021.1)\n",
      "Requirement already satisfied: six>=1.5 in c:\\users\\saravanan\\anaconda3\\lib\\site-packages (from python-dateutil<3.0.0,>=2.1->ibm-cos-sdk-core==2.7.0->ibm-cos-sdk==2.7.*->ibm-watson-machine-learning) (1.15.0)\n",
      "Requirement already satisfied: idna<4,>=2.5 in c:\\users\\saravanan\\anaconda3\\lib\\site-packages (from requests->ibm-watson-machine-learning) (2.10)\n",
      "Requirement already satisfied: charset-normalizer<3,>=2 in c:\\users\\saravanan\\anaconda3\\lib\\site-packages (from requests->ibm-watson-machine-learning) (2.1.1)\n",
      "Requirement already satisfied: zipp>=0.5 in c:\\users\\saravanan\\anaconda3\\lib\\site-packages (from importlib-metadata->ibm-watson-machine-learning) (3.4.1)\n",
      "Requirement already satisfied: pyparsing>=2.0.2 in c:\\users\\saravanan\\anaconda3\\lib\\site-packages (from packaging->ibm-watson-machine-learning) (2.4.7)\n",
      "Building wheels for collected packages: ibm-cos-sdk, ibm-cos-sdk-core, ibm-cos-sdk-s3transfer\n",
      "  Building wheel for ibm-cos-sdk (setup.py): started\n",
      "  Building wheel for ibm-cos-sdk (setup.py): finished with status 'done'\n",
      "  Created wheel for ibm-cos-sdk: filename=ibm_cos_sdk-2.7.0-py2.py3-none-any.whl size=72555 sha256=eb96bc59f1ce7eea1e4aafcc0a4d2712b73ec1c55b651d2073dbfe0831b443b0\n",
      "  Stored in directory: c:\\users\\saravanan\\appdata\\local\\pip\\cache\\wheels\\56\\14\\78\\c2fc4fe36e1e7198e4bde8707cf59b838a7be6859c631142f6\n",
      "  Building wheel for ibm-cos-sdk-core (setup.py): started\n",
      "  Building wheel for ibm-cos-sdk-core (setup.py): finished with status 'done'\n",
      "  Created wheel for ibm-cos-sdk-core: filename=ibm_cos_sdk_core-2.7.0-py2.py3-none-any.whl size=500999 sha256=99d2e2bb540f3e053ba99c867d7ce94956927e9e436a260ed3d0f5a800769be3\n",
      "  Stored in directory: c:\\users\\saravanan\\appdata\\local\\pip\\cache\\wheels\\54\\a5\\95\\ac2068077b0f41719c2a69a03fdfbdd76ad02cdbb0984ad1a7\n",
      "  Building wheel for ibm-cos-sdk-s3transfer (setup.py): started\n",
      "  Building wheel for ibm-cos-sdk-s3transfer (setup.py): finished with status 'done'\n",
      "  Created wheel for ibm-cos-sdk-s3transfer: filename=ibm_cos_sdk_s3transfer-2.7.0-py2.py3-none-any.whl size=88603 sha256=8bba709d68977b5ae40fc119977ad4680b5aa5ff3598def13e712c8ec9aeabac\n",
      "  Stored in directory: c:\\users\\saravanan\\appdata\\local\\pip\\cache\\wheels\\bf\\bf\\71\\d4b460c36adadb88a24dfd26411c8b4dfa19459d15988c648d\n",
      "Successfully built ibm-cos-sdk ibm-cos-sdk-core ibm-cos-sdk-s3transfer\n",
      "Installing collected packages: docutils, ibm-cos-sdk-core, ibm-cos-sdk-s3transfer, ibm-cos-sdk, ibm-watson-machine-learning\n",
      "  Attempting uninstall: docutils\n",
      "    Found existing installation: docutils 0.17\n",
      "    Uninstalling docutils-0.17:\n",
      "      Successfully uninstalled docutils-0.17\n",
      "  Attempting uninstall: ibm-cos-sdk-core\n",
      "    Found existing installation: ibm-cos-sdk-core 2.12.0\n",
      "    Uninstalling ibm-cos-sdk-core-2.12.0:\n",
      "      Successfully uninstalled ibm-cos-sdk-core-2.12.0\n",
      "  Attempting uninstall: ibm-cos-sdk-s3transfer\n",
      "    Found existing installation: ibm-cos-sdk-s3transfer 2.12.0\n",
      "    Uninstalling ibm-cos-sdk-s3transfer-2.12.0:\n",
      "      Successfully uninstalled ibm-cos-sdk-s3transfer-2.12.0\n",
      "  Attempting uninstall: ibm-cos-sdk\n",
      "    Found existing installation: ibm-cos-sdk 2.12.0\n",
      "    Uninstalling ibm-cos-sdk-2.12.0:\n",
      "      Successfully uninstalled ibm-cos-sdk-2.12.0\n",
      "Successfully installed docutils-0.15.2 ibm-cos-sdk-2.7.0 ibm-cos-sdk-core-2.7.0 ibm-cos-sdk-s3transfer-2.7.0 ibm-watson-machine-learning-1.0.257\n"
     ]
    }
   ],
   "source": [
    "!pip install -U ibm-watson-machine-learning"
   ]
  },
  {
   "cell_type": "code",
   "execution_count": 24,
   "id": "0ce747bd",
   "metadata": {},
   "outputs": [
    {
     "name": "stdout",
     "output_type": "stream",
     "text": [
      "Python 3.7 and 3.8 frameworks are deprecated and will be removed in a future release. Use Python 3.9 framework instead.\n"
     ]
    }
   ],
   "source": [
    "from ibm_watson_machine_learning import APIClient\n",
    "\n",
    "API_KEY = \"Qxwy3byu83al_Lvmk05S2xcRhHqeQiy_4BxWzPcxuB9A\"\n",
    "\n",
    "credentials = {\n",
    "    \"url\": \"https://us-south.ml.cloud.ibm.com\",\n",
    "    \"apikey\": API_KEY\n",
    "}\n",
    "\n",
    "client = APIClient(credentials)"
   ]
  },
  {
   "cell_type": "code",
   "execution_count": 25,
   "id": "994aaa5c",
   "metadata": {},
   "outputs": [],
   "source": [
    "def guid_from_space_name(client, space_name):\n",
    "    space = client.spaces.get_details()\n",
    "    return(next(item for item in space['resources'] if item['entity']['name'] == space_name)['metadata']['id'])"
   ]
  },
  {
   "cell_type": "code",
   "execution_count": 28,
   "id": "4b401aa4",
   "metadata": {},
   "outputs": [
    {
     "name": "stdout",
     "output_type": "stream",
     "text": [
      "Space UID = ad4acd34-c854-43ef-8fa2-0e31b3b4a474\n"
     ]
    }
   ],
   "source": [
    "#space_uid = guid_from_space_name(client, 'Handwritten Digit Recognition')\n",
    "#print(\"Space UID: \", space_uid)\n",
    "space_uid = guid_from_space_name(client,'hdr')\n",
    "print(\"Space UID = \" + space_uid)"
   ]
  },
  {
   "cell_type": "code",
   "execution_count": 29,
   "id": "98e2639f",
   "metadata": {},
   "outputs": [
    {
     "data": {
      "text/plain": [
       "'SUCCESS'"
      ]
     },
     "execution_count": 29,
     "metadata": {},
     "output_type": "execute_result"
    }
   ],
   "source": [
    "client.set.default_space(space_uid)"
   ]
  },
  {
   "cell_type": "markdown",
   "id": "87b8cd03",
   "metadata": {},
   "source": [
    "Define model specifications for deployment"
   ]
  },
  {
   "cell_type": "code",
   "execution_count": 30,
   "id": "d72252bc",
   "metadata": {},
   "outputs": [
    {
     "name": "stdout",
     "output_type": "stream",
     "text": [
      "-----------------------------  ------------------------------------  ----\n",
      "NAME                           ASSET_ID                              TYPE\n",
      "default_py3.6                  0062b8c9-8b7d-44a0-a9b9-46c416adcbd9  base\n",
      "kernel-spark3.2-scala2.12      020d69ce-7ac1-5e68-ac1a-31189867356a  base\n",
      "pytorch-onnx_1.3-py3.7-edt     069ea134-3346-5748-b513-49120e15d288  base\n",
      "scikit-learn_0.20-py3.6        09c5a1d0-9c1e-4473-a344-eb7b665ff687  base\n",
      "spark-mllib_3.0-scala_2.12     09f4cff0-90a7-5899-b9ed-1ef348aebdee  base\n",
      "pytorch-onnx_rt22.1-py3.9      0b848dd4-e681-5599-be41-b5f6fccc6471  base\n",
      "ai-function_0.1-py3.6          0cdb0f1e-5376-4f4d-92dd-da3b69aa9bda  base\n",
      "shiny-r3.6                     0e6e79df-875e-4f24-8ae9-62dcc2148306  base\n",
      "tensorflow_2.4-py3.7-horovod   1092590a-307d-563d-9b62-4eb7d64b3f22  base\n",
      "pytorch_1.1-py3.6              10ac12d6-6b30-4ccd-8392-3e922c096a92  base\n",
      "tensorflow_1.15-py3.6-ddl      111e41b3-de2d-5422-a4d6-bf776828c4b7  base\n",
      "autoai-kb_rt22.2-py3.10        125b6d9a-5b1f-5e8d-972a-b251688ccf40  base\n",
      "runtime-22.1-py3.9             12b83a17-24d8-5082-900f-0ab31fbfd3cb  base\n",
      "scikit-learn_0.22-py3.6        154010fa-5b3b-4ac1-82af-4d5ee5abbc85  base\n",
      "default_r3.6                   1b70aec3-ab34-4b87-8aa0-a4a3c8296a36  base\n",
      "pytorch-onnx_1.3-py3.6         1bc6029a-cc97-56da-b8e0-39c3880dbbe7  base\n",
      "kernel-spark3.3-r3.6           1c9e5454-f216-59dd-a20e-474a5cdf5988  base\n",
      "pytorch-onnx_rt22.1-py3.9-edt  1d362186-7ad5-5b59-8b6c-9d0880bde37f  base\n",
      "tensorflow_2.1-py3.6           1eb25b84-d6ed-5dde-b6a5-3fbdf1665666  base\n",
      "spark-mllib_3.2                20047f72-0a98-58c7-9ff5-a77b012eb8f5  base\n",
      "tensorflow_2.4-py3.8-horovod   217c16f6-178f-56bf-824a-b19f20564c49  base\n",
      "runtime-22.1-py3.9-cuda        26215f05-08c3-5a41-a1b0-da66306ce658  base\n",
      "do_py3.8                       295addb5-9ef9-547e-9bf4-92ae3563e720  base\n",
      "autoai-ts_3.8-py3.8            2aa0c932-798f-5ae9-abd6-15e0c2402fb5  base\n",
      "tensorflow_1.15-py3.6          2b73a275-7cbf-420b-a912-eae7f436e0bc  base\n",
      "kernel-spark3.3-py3.9          2b7961e2-e3b1-5a8c-a491-482c8368839a  base\n",
      "pytorch_1.2-py3.6              2c8ef57d-2687-4b7d-acce-01f94976dac1  base\n",
      "spark-mllib_2.3                2e51f700-bca0-4b0d-88dc-5c6791338875  base\n",
      "pytorch-onnx_1.1-py3.6-edt     32983cea-3f32-4400-8965-dde874a8d67e  base\n",
      "spark-mllib_3.0-py37           36507ebe-8770-55ba-ab2a-eafe787600e9  base\n",
      "spark-mllib_2.4                390d21f8-e58b-4fac-9c55-d7ceda621326  base\n",
      "autoai-ts_rt22.2-py3.10        396b2e83-0953-5b86-9a55-7ce1628a406f  base\n",
      "xgboost_0.82-py3.6             39e31acd-5f30-41dc-ae44-60233c80306e  base\n",
      "pytorch-onnx_1.2-py3.6-edt     40589d0e-7019-4e28-8daa-fb03b6f4fe12  base\n",
      "pytorch-onnx_rt22.2-py3.10     40e73f55-783a-5535-b3fa-0c8b94291431  base\n",
      "default_r36py38                41c247d3-45f8-5a71-b065-8580229facf0  base\n",
      "autoai-ts_rt22.1-py3.9         4269d26e-07ba-5d40-8f66-2d495b0c71f7  base\n",
      "autoai-obm_3.0                 42b92e18-d9ab-567f-988a-4240ba1ed5f7  base\n",
      "pmml-3.0_4.3                   493bcb95-16f1-5bc5-bee8-81b8af80e9c7  base\n",
      "spark-mllib_2.4-r_3.6          49403dff-92e9-4c87-a3d7-a42d0021c095  base\n",
      "xgboost_0.90-py3.6             4ff8d6c2-1343-4c18-85e1-689c965304d3  base\n",
      "pytorch-onnx_1.1-py3.6         50f95b2a-bc16-43bb-bc94-b0bed208c60b  base\n",
      "autoai-ts_3.9-py3.8            52c57136-80fa-572e-8728-a5e7cbb42cde  base\n",
      "spark-mllib_2.4-scala_2.11     55a70f99-7320-4be5-9fb9-9edb5a443af5  base\n",
      "spark-mllib_3.0                5c1b0ca2-4977-5c2e-9439-ffd44ea8ffe9  base\n",
      "autoai-obm_2.0                 5c2e37fa-80b8-5e77-840f-d912469614ee  base\n",
      "spss-modeler_18.1              5c3cad7e-507f-4b2a-a9a3-ab53a21dee8b  base\n",
      "cuda-py3.8                     5d3232bf-c86b-5df4-a2cd-7bb870a1cd4e  base\n",
      "autoai-kb_3.1-py3.7            632d4b22-10aa-5180-88f0-f52dfb6444d7  base\n",
      "pytorch-onnx_1.7-py3.8         634d3cdc-b562-5bf9-a2d4-ea90a478456b  base\n",
      "-----------------------------  ------------------------------------  ----\n",
      "Note: Only first 50 records were displayed. To display more use 'limit' parameter.\n"
     ]
    }
   ],
   "source": [
    "client.software_specifications.list()"
   ]
  },
  {
   "cell_type": "code",
   "execution_count": 31,
   "id": "814c440d",
   "metadata": {},
   "outputs": [
    {
     "data": {
      "text/plain": [
       "'12b83a17-24d8-5082-900f-0ab31fbfd3cb'"
      ]
     },
     "execution_count": 31,
     "metadata": {},
     "output_type": "execute_result"
    }
   ],
   "source": [
    "software_spec_uid = client.software_specifications.get_uid_by_name(\"runtime-22.1-py3.9\")\n",
    "software_spec_uid"
   ]
  },
  {
   "cell_type": "code",
   "execution_count": 32,
   "id": "0253e11e",
   "metadata": {},
   "outputs": [],
   "source": [
    "model_details = client.repository.store_model(model=\"model.tgz\", meta_props={\n",
    "    client.repository.ModelMetaNames.NAME: \"CNN\",\n",
    "    client.repository.ModelMetaNames.TYPE: \"tensorflow_2.7\",\n",
    "    client.repository.ModelMetaNames.SOFTWARE_SPEC_UID: software_spec_uid\n",
    "})\n",
    "\n",
    "model_id = client.repository.get_model_id(model_details)"
   ]
  },
  {
   "cell_type": "code",
   "execution_count": 33,
   "id": "8102b72c",
   "metadata": {},
   "outputs": [
    {
     "data": {
      "text/plain": [
       "'9f0258f0-4e81-418f-8925-fad5f717b9ac'"
      ]
     },
     "execution_count": 33,
     "metadata": {},
     "output_type": "execute_result"
    }
   ],
   "source": [
    "model_id"
   ]
  },
  {
   "cell_type": "markdown",
   "id": "4f17a219",
   "metadata": {},
   "source": [
    "Download the deployed model"
   ]
  },
  {
   "cell_type": "code",
   "execution_count": 34,
   "id": "0c8a5ab8",
   "metadata": {},
   "outputs": [
    {
     "name": "stdout",
     "output_type": "stream",
     "text": [
      "Successfully saved model content to file: 'model.tar.gz'\n"
     ]
    },
    {
     "data": {
      "text/plain": [
       "'C:\\\\IBM/model.tar.gz'"
      ]
     },
     "execution_count": 34,
     "metadata": {},
     "output_type": "execute_result"
    }
   ],
   "source": [
    "client.repository.download(model_id, \"model.tar.gz\")"
   ]
  },
  {
   "cell_type": "code",
   "execution_count": null,
   "id": "88d7de22",
   "metadata": {},
   "outputs": [],
   "source": []
  }
 ],
 "metadata": {
  "kernelspec": {
   "display_name": "Python 3",
   "language": "python",
   "name": "python3"
  },
  "language_info": {
   "codemirror_mode": {
    "name": "ipython",
    "version": 3
   },
   "file_extension": ".py",
   "mimetype": "text/x-python",
   "name": "python",
   "nbconvert_exporter": "python",
   "pygments_lexer": "ipython3",
   "version": "3.8.8"
  }
 },
 "nbformat": 4,
 "nbformat_minor": 5
}
